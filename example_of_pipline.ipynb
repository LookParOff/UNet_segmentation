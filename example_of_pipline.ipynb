{
 "cells": [
  {
   "cell_type": "code",
   "execution_count": 1,
   "id": "2acc4536",
   "metadata": {
    "execution": {
     "iopub.execute_input": "2022-07-30T19:34:07.430876Z",
     "iopub.status.busy": "2022-07-30T19:34:07.430373Z",
     "iopub.status.idle": "2022-07-30T19:34:41.970579Z",
     "shell.execute_reply": "2022-07-30T19:34:41.969343Z"
    },
    "papermill": {
     "duration": 34.550754,
     "end_time": "2022-07-30T19:34:41.973623",
     "exception": false,
     "start_time": "2022-07-30T19:34:07.422869",
     "status": "completed"
    },
    "tags": []
   },
   "outputs": [
    {
     "name": "stdout",
     "output_type": "stream",
     "text": [
      "Collecting pycocotools\r\n",
      "  Downloading pycocotools-2.0.4.tar.gz (106 kB)\r\n",
      "\u001B[2K     \u001B[90m━━━━━━━━━━━━━━━━━━━━━━━━━━━━━━━━━━━━━━━\u001B[0m \u001B[32m106.6/106.6 kB\u001B[0m \u001B[31m2.4 MB/s\u001B[0m eta \u001B[36m0:00:00\u001B[0m\r\n",
      "\u001B[?25h  Installing build dependencies ... \u001B[?25l-\b \b\\\b \b|\b \b/\b \b-\b \b\\\b \b|\b \b/\b \bdone\r\n",
      "\u001B[?25h  Getting requirements to build wheel ... \u001B[?25l-\b \bdone\r\n",
      "\u001B[?25h  Preparing metadata (pyproject.toml) ... \u001B[?25l-\b \b\\\b \bdone\r\n",
      "\u001B[?25hRequirement already satisfied: numpy in /opt/conda/lib/python3.7/site-packages (from pycocotools) (1.21.6)\r\n",
      "Requirement already satisfied: matplotlib>=2.1.0 in /opt/conda/lib/python3.7/site-packages (from pycocotools) (3.5.2)\r\n",
      "Requirement already satisfied: packaging>=20.0 in /opt/conda/lib/python3.7/site-packages (from matplotlib>=2.1.0->pycocotools) (21.3)\r\n",
      "Requirement already satisfied: python-dateutil>=2.7 in /opt/conda/lib/python3.7/site-packages (from matplotlib>=2.1.0->pycocotools) (2.8.2)\r\n",
      "Requirement already satisfied: fonttools>=4.22.0 in /opt/conda/lib/python3.7/site-packages (from matplotlib>=2.1.0->pycocotools) (4.33.3)\r\n",
      "Requirement already satisfied: pyparsing>=2.2.1 in /opt/conda/lib/python3.7/site-packages (from matplotlib>=2.1.0->pycocotools) (3.0.9)\r\n",
      "Requirement already satisfied: kiwisolver>=1.0.1 in /opt/conda/lib/python3.7/site-packages (from matplotlib>=2.1.0->pycocotools) (1.4.2)\r\n",
      "Requirement already satisfied: pillow>=6.2.0 in /opt/conda/lib/python3.7/site-packages (from matplotlib>=2.1.0->pycocotools) (9.1.1)\r\n",
      "Requirement already satisfied: cycler>=0.10 in /opt/conda/lib/python3.7/site-packages (from matplotlib>=2.1.0->pycocotools) (0.11.0)\r\n",
      "Requirement already satisfied: typing-extensions in /opt/conda/lib/python3.7/site-packages (from kiwisolver>=1.0.1->matplotlib>=2.1.0->pycocotools) (4.1.1)\r\n",
      "Requirement already satisfied: six>=1.5 in /opt/conda/lib/python3.7/site-packages (from python-dateutil>=2.7->matplotlib>=2.1.0->pycocotools) (1.16.0)\r\n",
      "Building wheels for collected packages: pycocotools\r\n",
      "  Building wheel for pycocotools (pyproject.toml) ... \u001B[?25l-\b \b\\\b \b|\b \b/\b \b-\b \b\\\b \bdone\r\n",
      "\u001B[?25h  Created wheel for pycocotools: filename=pycocotools-2.0.4-cp37-cp37m-linux_x86_64.whl size=370058 sha256=d178c13189a97d1dc9a5bf64701c91339028bcbc42df1312b4d3ae45bbd6f15b\r\n",
      "  Stored in directory: /root/.cache/pip/wheels/a3/5f/fa/f011e578cc76e1fc5be8dce30b3eb9fd00f337e744b3bba59b\r\n",
      "Successfully built pycocotools\r\n",
      "Installing collected packages: pycocotools\r\n",
      "Successfully installed pycocotools-2.0.4\r\n",
      "\u001B[33mWARNING: Running pip as the 'root' user can result in broken permissions and conflicting behaviour with the system package manager. It is recommended to use a virtual environment instead: https://pip.pypa.io/warnings/venv\u001B[0m\u001B[33m\r\n",
      "\u001B[0m"
     ]
    }
   ],
   "source": [
    "!pip install pycocotools"
   ]
  },
  {
   "cell_type": "code",
   "execution_count": 2,
   "id": "73a1b20b",
   "metadata": {
    "execution": {
     "iopub.execute_input": "2022-07-30T19:34:41.997748Z",
     "iopub.status.busy": "2022-07-30T19:34:41.997324Z",
     "iopub.status.idle": "2022-07-30T19:34:45.191285Z",
     "shell.execute_reply": "2022-07-30T19:34:45.190311Z"
    },
    "papermill": {
     "duration": 3.208411,
     "end_time": "2022-07-30T19:34:45.193662",
     "exception": false,
     "start_time": "2022-07-30T19:34:41.985251",
     "status": "completed"
    },
    "tags": []
   },
   "outputs": [],
   "source": [
    "# -*- coding: utf-8 -*-\n",
    "import numpy as np\n",
    "import pandas as pd\n",
    "\n",
    "from pycocotools.coco import COCO  # API for interact with dataset\n",
    "\n",
    "from PIL import Image  # to load image\n",
    "\n",
    "# to show image\n",
    "import matplotlib.pyplot as plt\n",
    "import skimage.io as io\n",
    "# neural networks\n",
    "import torch\n",
    "from torch.utils.data import IterableDataset, DataLoader\n",
    "import torchvision\n",
    "import torchvision.transforms.functional as F\n",
    "from torchmetrics import JaccardIndex"
   ]
  },
  {
   "cell_type": "code",
   "execution_count": 3,
   "id": "faf7e02d",
   "metadata": {
    "execution": {
     "iopub.execute_input": "2022-07-30T19:34:45.208589Z",
     "iopub.status.busy": "2022-07-30T19:34:45.207506Z",
     "iopub.status.idle": "2022-07-30T19:34:45.214587Z",
     "shell.execute_reply": "2022-07-30T19:34:45.213676Z"
    },
    "papermill": {
     "duration": 0.016358,
     "end_time": "2022-07-30T19:34:45.216591",
     "exception": false,
     "start_time": "2022-07-30T19:34:45.200233",
     "status": "completed"
    },
    "tags": []
   },
   "outputs": [],
   "source": [
    "def get_person_annotations(coco):\n",
    "    person_id = coco.getCatIds(catNms=[\"person\"])[0]\n",
    "    ids_images_with_persons = coco.getImgIds(catIds=[person_id])\n",
    "    f\"{len(ids_images_with_persons)} images with person on it\"\n",
    "\n",
    "    annotations_ids = []\n",
    "    for id_img in ids_images_with_persons:\n",
    "        anns = coco.getAnnIds(imgIds=[id_img])\n",
    "        annotations_ids.append(anns)\n",
    "    f\"{len(annotations_ids)} images with person on it\"\n",
    "    return annotations_ids, person_id"
   ]
  },
  {
   "cell_type": "code",
   "execution_count": 4,
   "id": "b7398f27",
   "metadata": {
    "execution": {
     "iopub.execute_input": "2022-07-30T19:34:45.230397Z",
     "iopub.status.busy": "2022-07-30T19:34:45.230113Z",
     "iopub.status.idle": "2022-07-30T19:34:45.239903Z",
     "shell.execute_reply": "2022-07-30T19:34:45.239102Z"
    },
    "papermill": {
     "duration": 0.019028,
     "end_time": "2022-07-30T19:34:45.241899",
     "exception": false,
     "start_time": "2022-07-30T19:34:45.222871",
     "status": "completed"
    },
    "tags": []
   },
   "outputs": [],
   "source": [
    "def get_filtered_data(coco):\n",
    "    annotations_ids, person_id = get_person_annotations(coco)\n",
    "    filtered_ann = []\n",
    "    for num_iter, ann_id in enumerate(annotations_ids):\n",
    "        skip_image = False\n",
    "        count_of_persons_on_image = 0\n",
    "        annotations_of_img = coco.loadAnns(ann_id)\n",
    "        if len(annotations_of_img) > 15:\n",
    "            # too many objects\n",
    "            continue\n",
    "        img = coco.loadImgs(annotations_of_img[0][\"image_id\"])[0]\n",
    "        img_area = int(img[\"height\"]) * int(img[\"width\"])\n",
    "        area_of_person = -1\n",
    "        max_area = -1\n",
    "        index_person_in_ann = 0\n",
    "        for i, ann in enumerate(annotations_of_img):\n",
    "            if ann[\"category_id\"] == person_id:\n",
    "                count_of_persons_on_image += 1\n",
    "                area_of_person = ann[\"area\"]\n",
    "                index_person_in_ann = i\n",
    "            if max_area < ann[\"area\"]:\n",
    "                max_area = ann[\"area\"]\n",
    "            if count_of_persons_on_image > 1:\n",
    "                skip_image = True\n",
    "                break\n",
    "\n",
    "        if skip_image:\n",
    "            continue\n",
    "        if area_of_person < img_area * 0.10:\n",
    "            continue\n",
    "        if area_of_person != max_area:\n",
    "            continue\n",
    "        filtered_ann.append(annotations_of_img[index_person_in_ann])\n",
    "    #     I = io.imread(img['coco_url'])\n",
    "    #     plt.imshow(I)\n",
    "    #     coco.showAnns(annotations_of_img)\n",
    "    #     plt.show()\n",
    "    f\"{len(filtered_ann)} filtered images with person on it\"\n",
    "    return filtered_ann"
   ]
  },
  {
   "cell_type": "code",
   "execution_count": 5,
   "id": "2b9ca5ef",
   "metadata": {
    "execution": {
     "iopub.execute_input": "2022-07-30T19:34:45.255283Z",
     "iopub.status.busy": "2022-07-30T19:34:45.255019Z",
     "iopub.status.idle": "2022-07-30T19:34:45.261958Z",
     "shell.execute_reply": "2022-07-30T19:34:45.261025Z"
    },
    "papermill": {
     "duration": 0.015801,
     "end_time": "2022-07-30T19:34:45.264005",
     "exception": false,
     "start_time": "2022-07-30T19:34:45.248204",
     "status": "completed"
    },
    "tags": []
   },
   "outputs": [],
   "source": [
    "def show_filtered_images(coco, filtered_ann):\n",
    "    row_n = 4\n",
    "    col_n = 7\n",
    "    fig = plt.figure(figsize=(30, 8))\n",
    "    for index in range(1, row_n * col_n + 1):\n",
    "        annotation_of_img = filtered_ann[np.random.randint(0, len(filtered_ann))]\n",
    "        img = coco.loadImgs(annotation_of_img[\"image_id\"])[0]\n",
    "        I = io.imread(img['coco_url'])\n",
    "        plt.subplot(row_n, col_n, index)\n",
    "        plt.imshow(I)\n",
    "        plt.axis(\"off\")\n",
    "        img_area = int(img[\"height\"]) * int(img[\"width\"])\n",
    "        person_area = annotation_of_img[\"area\"]\n",
    "        plt.title(f\"persent of person {round(person_area / img_area, 3)}\")\n",
    "    plt.show()"
   ]
  },
  {
   "cell_type": "code",
   "execution_count": 6,
   "id": "5b4f763b",
   "metadata": {
    "execution": {
     "iopub.execute_input": "2022-07-30T19:34:45.277551Z",
     "iopub.status.busy": "2022-07-30T19:34:45.277293Z",
     "iopub.status.idle": "2022-07-30T19:34:45.286241Z",
     "shell.execute_reply": "2022-07-30T19:34:45.285203Z"
    },
    "papermill": {
     "duration": 0.018206,
     "end_time": "2022-07-30T19:34:45.288279",
     "exception": false,
     "start_time": "2022-07-30T19:34:45.270073",
     "status": "completed"
    },
    "tags": []
   },
   "outputs": [],
   "source": [
    "def EDA_of_images_sizes(coco, filtered_ann):\n",
    "    heights, widths = [], []\n",
    "    for ann in filtered_ann:\n",
    "        img = coco.loadImgs(ann[\"image_id\"])[0]\n",
    "        h, w = int(img[\"height\"]), int(img[\"width\"])\n",
    "        heights.append(h)\n",
    "        widths.append(w)\n",
    "\n",
    "    unique_h, counts_h = np.unique(heights, return_counts=True)\n",
    "    unique_w, counts_w = np.unique(widths, return_counts=True)\n",
    "\n",
    "    fig = plt.figure(figsize=(10, 10))\n",
    "\n",
    "    plt.subplot(2, 2, 1)\n",
    "    plt.scatter(heights, widths)\n",
    "    plt.xlabel(\"height\")\n",
    "    plt.ylabel(\"widths\")\n",
    "\n",
    "    plt.subplot(2, 2, 2)\n",
    "    plt.plot(unique_h, counts_h)\n",
    "    plt.xlabel(\"height\")\n",
    "    plt.ylabel(\"count\")\n",
    "\n",
    "    plt.subplot(2, 2, 3)\n",
    "    plt.plot(unique_w, counts_w)\n",
    "    plt.xlabel(\"width\")\n",
    "    plt.ylabel(\"count\")\n",
    "\n",
    "    plt.show()"
   ]
  },
  {
   "cell_type": "code",
   "execution_count": 7,
   "id": "f52b5158",
   "metadata": {
    "execution": {
     "iopub.execute_input": "2022-07-30T19:34:45.302749Z",
     "iopub.status.busy": "2022-07-30T19:34:45.302079Z",
     "iopub.status.idle": "2022-07-30T19:34:45.318052Z",
     "shell.execute_reply": "2022-07-30T19:34:45.317164Z"
    },
    "papermill": {
     "duration": 0.025531,
     "end_time": "2022-07-30T19:34:45.320100",
     "exception": false,
     "start_time": "2022-07-30T19:34:45.294569",
     "status": "completed"
    },
    "tags": []
   },
   "outputs": [],
   "source": [
    "def check_of_loader_work(coco, path_to_images, resize_shape, device, num_of_pictures):\n",
    "    filtered_ann = get_filtered_data(coco)\n",
    "    dataset = IterableDatasetCOCO(coco, path_to_images,\n",
    "                                  filtered_ann, resize_shape, device, need_normalize=False)\n",
    "    dataloader = DataLoader(dataset, batch_size=1)\n",
    "    plt.figure(figsize=(10, 10))\n",
    "    n_rows = np.int(np.sqrt(num_of_pictures * 2))\n",
    "    n_cols = n_rows\n",
    "    if n_cols % 2 != 0:\n",
    "        n_cols += 1\n",
    "    if n_rows * n_cols < num_of_pictures * 2:\n",
    "        n_rows += 1\n",
    "    for i, (x, y) in enumerate(dataloader):\n",
    "        if i == num_of_pictures:\n",
    "            break\n",
    "        plt.subplot(n_rows, n_cols, i * 2 + 1)\n",
    "        plt.axis(\"off\")\n",
    "        plt.imshow(x[0][0])\n",
    "        plt.imshow(x[0].to(dtype=torch.int32).permute([1, 2, 0]))\n",
    "        plt.subplot(n_rows, n_cols, i * 2 + 2)\n",
    "        plt.axis(\"off\")\n",
    "        plt.imshow(y[0][0])\n",
    "    plt.show()\n",
    "    print()\n",
    "\n",
    "\n",
    "def check_of_model_work(coco, path_to_images, resize_shape, model, device, num_of_pictures):\n",
    "    filtered_ann = get_filtered_data(coco)\n",
    "    dataset = IterableDatasetCOCO(coco, path_to_images,\n",
    "                                  filtered_ann, resize_shape, device, need_normalize=True)\n",
    "    dataloader = DataLoader(dataset, batch_size=1)\n",
    "    to_pil = torchvision.transforms.ToPILImage()\n",
    "    plt.figure(figsize=(10, 10))\n",
    "    n_rows = np.int(np.sqrt(num_of_pictures * 2))\n",
    "    n_cols = n_rows\n",
    "    if n_cols % 2 != 0:\n",
    "        n_cols += 1\n",
    "    if n_rows * n_cols < num_of_pictures * 2:\n",
    "        n_rows += 1\n",
    "    for i, (x, y) in enumerate(dataloader):\n",
    "        if i == num_of_pictures:\n",
    "            break\n",
    "        predict = model(x)[0]\n",
    "\n",
    "        plt.subplot(n_rows, n_cols, i * 2 + 1)\n",
    "        plt.axis(\"off\")\n",
    "        plt.imshow(to_pil(torch.argmax(y[0], dim=0).to(dtype=torch.float32)))\n",
    "        plt.subplot(n_rows, n_cols, i * 2 + 2)\n",
    "        plt.axis(\"off\")\n",
    "        plt.imshow(to_pil(torch.argmax(predict, dim=0).to(dtype=torch.float32)))\n",
    "\n",
    "    plt.show()\n",
    "    print()\n"
   ]
  },
  {
   "cell_type": "code",
   "execution_count": 8,
   "id": "5125ce7c",
   "metadata": {
    "execution": {
     "iopub.execute_input": "2022-07-30T19:34:45.334555Z",
     "iopub.status.busy": "2022-07-30T19:34:45.333754Z",
     "iopub.status.idle": "2022-07-30T19:34:45.341515Z",
     "shell.execute_reply": "2022-07-30T19:34:45.340679Z"
    },
    "papermill": {
     "duration": 0.017027,
     "end_time": "2022-07-30T19:34:45.343471",
     "exception": false,
     "start_time": "2022-07-30T19:34:45.326444",
     "status": "completed"
    },
    "tags": []
   },
   "outputs": [],
   "source": [
    "def get_dataloader(coco, path_to_images, images_shape,\n",
    "                   batch_size, device, limiter=0,\n",
    "                   need_transformations=True, need_normalize=True):\n",
    "    filtered_annotation = get_filtered_data(coco)\n",
    "    if limiter > 0:\n",
    "        filtered_annotation = filtered_annotation[:limiter]\n",
    "    length_train_data = int(len(filtered_annotation) * 0.8)\n",
    "    length_test_data = len(filtered_annotation) - length_train_data\n",
    "    dataset_train = IterableDatasetCOCO(coco_module, path_to_images,\n",
    "                                        filtered_annotation[:length_train_data],\n",
    "                                        images_shape, device,\n",
    "                                        need_transformations=need_transformations,\n",
    "                                        need_normalize=need_normalize)\n",
    "    dataset_test = IterableDatasetCOCO(coco_module, path_to_images,\n",
    "                                       filtered_annotation[length_train_data:],\n",
    "                                       images_shape, device)\n",
    "    train_dataloader = DataLoader(dataset_train, batch_size=batch_size, num_workers=0)\n",
    "    test_dataloader = DataLoader(dataset_test, batch_size=1, num_workers=0)\n",
    "    return train_dataloader, test_dataloader, length_train_data, length_test_data\n"
   ]
  },
  {
   "cell_type": "code",
   "execution_count": 9,
   "id": "5c422e44",
   "metadata": {
    "execution": {
     "iopub.execute_input": "2022-07-30T19:34:45.358650Z",
     "iopub.status.busy": "2022-07-30T19:34:45.358002Z",
     "iopub.status.idle": "2022-07-30T19:34:45.378792Z",
     "shell.execute_reply": "2022-07-30T19:34:45.377944Z"
    },
    "papermill": {
     "duration": 0.030669,
     "end_time": "2022-07-30T19:34:45.380899",
     "exception": false,
     "start_time": "2022-07-30T19:34:45.350230",
     "status": "completed"
    },
    "tags": []
   },
   "outputs": [],
   "source": [
    "class IterableDatasetCOCO(IterableDataset):\n",
    "    def __init__(self, coco, path_to_images, annotations, resize_shape, device,\n",
    "                 need_normalize=True, need_transformations=True):\n",
    "        super().__init__()\n",
    "        self.coco = coco\n",
    "        self.path_to_images = path_to_images\n",
    "        self.annotation_of_images = annotations\n",
    "        self.resize_shape = resize_shape\n",
    "        self.device = device\n",
    "        self.need_normalize = need_normalize\n",
    "        self.need_transformations = need_transformations\n",
    "\n",
    "        self.names_of_images = []\n",
    "        self.__index = 0\n",
    "\n",
    "        # calculated empirical by training dataset\n",
    "        # mean = torch.mean(tensor_image, dim=[1, 2])\n",
    "        # std = torch.std(tensor_image, dim=[1, 2])\n",
    "        mean = [111.8526, 103.3080, 95.0226]\n",
    "        std = [75.0907, 72.1730, 73.3086]\n",
    "\n",
    "        self.norm = torchvision.transforms.Normalize(mean, std)\n",
    "        self.resize = torchvision.transforms.Resize(self.resize_shape)\n",
    "\n",
    "        for ann in self.annotation_of_images:\n",
    "            # recording names of files, which will go to the network\n",
    "            img_id = ann[\"image_id\"]\n",
    "            img = coco.loadImgs([img_id])\n",
    "            self.names_of_images.append(img[0][\"file_name\"])\n",
    "\n",
    "    def get_next_data(self):\n",
    "        worker_info = torch.utils.data.get_worker_info()\n",
    "        start = 0\n",
    "        end = len(self.names_of_images)\n",
    "        if worker_info is not None:\n",
    "            per_worker = int(np.ceil((end - start) / float(worker_info.num_workers)))\n",
    "            worker_id = worker_info.id\n",
    "            start = worker_id * per_worker\n",
    "            end = min(start + per_worker, end)\n",
    "        names = self.names_of_images[start:end]\n",
    "        for i, name in enumerate(names):\n",
    "            name = self.names_of_images[start + i]\n",
    "            img = Image.open(f\"{self.path_to_images}/{name}\")\n",
    "            tensor_image = torch.tensor(np.array(img), device=self.device, dtype=torch.int32)\n",
    "            if len(tensor_image.shape) != 3:\n",
    "                # skip black and white  image\n",
    "                continue\n",
    "            tensor_image = tensor_image.permute((2, 0, 1))\n",
    "            tensor_image = self.resize(tensor_image)\n",
    "\n",
    "            image_mask = self.coco.annToMask(self.annotation_of_images[start + i])\n",
    "            tensor_mask_person = torch.tensor(image_mask, device=self.device, dtype=torch.float32)\n",
    "            tensor_mask_person = torch.unsqueeze(tensor_mask_person, dim=0)\n",
    "            tensor_mask_person = self.resize(tensor_mask_person)\n",
    "            tensor_mask_background = torch.abs(tensor_mask_person - 1)\n",
    "            tensor_mask = torch.concat([tensor_mask_background, tensor_mask_person], dim=0)\n",
    "\n",
    "            if self.need_transformations:\n",
    "                tensor_image, tensor_mask = self.transformation(tensor_image, tensor_mask)\n",
    "\n",
    "            tensor_image = tensor_image.to(dtype=torch.float32)\n",
    "\n",
    "            if self.need_normalize:\n",
    "                tensor_image = self.norm(tensor_image)\n",
    "\n",
    "            yield tensor_image, tensor_mask\n",
    "\n",
    "    def transformation(self, tensor_image, tensor_mask):\n",
    "        p = np.random.random()\n",
    "        if p < 0.5:\n",
    "            tensor_image = F.hflip(tensor_image)\n",
    "            tensor_mask = F.hflip(tensor_mask)\n",
    "        p = np.random.random()\n",
    "        if p < 0.5:\n",
    "            angle = np.random.randint(-40, 40)\n",
    "            tensor_image = F.rotate(tensor_image, angle)\n",
    "            tensor_mask = F.rotate(tensor_mask, angle)\n",
    "        p = np.random.random()\n",
    "        if p < 0.5:\n",
    "            factor = np.random.uniform(0.5, 1.5)\n",
    "            tensor_image = F.adjust_contrast(tensor_image, factor)\n",
    "        p = np.random.random()\n",
    "        if p < 0.5:\n",
    "            factor = np.random.uniform(0.5, 1.5)\n",
    "            tensor_image = F.adjust_contrast(tensor_image, factor)\n",
    "        return tensor_image, tensor_mask\n",
    "\n",
    "    def __len__(self):\n",
    "        return len(self.annotation_of_images)\n",
    "\n",
    "    def __iter__(self):\n",
    "        return iter(self.get_next_data())\n"
   ]
  },
  {
   "cell_type": "code",
   "execution_count": 10,
   "id": "d007a800",
   "metadata": {
    "execution": {
     "iopub.execute_input": "2022-07-30T19:34:45.395692Z",
     "iopub.status.busy": "2022-07-30T19:34:45.395447Z",
     "iopub.status.idle": "2022-07-30T19:34:45.419444Z",
     "shell.execute_reply": "2022-07-30T19:34:45.418643Z"
    },
    "papermill": {
     "duration": 0.03378,
     "end_time": "2022-07-30T19:34:45.421343",
     "exception": false,
     "start_time": "2022-07-30T19:34:45.387563",
     "status": "completed"
    },
    "tags": []
   },
   "outputs": [],
   "source": [
    "class Block(torch.nn.Module):\n",
    "    def __init__(self, inp_size, out_size, device):\n",
    "        super().__init__()\n",
    "        # with padding=1 output shape of result\n",
    "        # will be the same with input\n",
    "        self.conv1 = torch.nn.Conv2d(inp_size, out_size,\n",
    "                                     kernel_size=(3, 3), padding=1, device=device)\n",
    "        self.conv2 = torch.nn.Conv2d(out_size, out_size,\n",
    "                                     kernel_size=(3, 3), padding=1, device=device)\n",
    "        self.ReLU = torch.nn.ReLU()\n",
    "\n",
    "    def forward(self, x):\n",
    "        out = self.ReLU(self.conv1(x))\n",
    "        out = self.ReLU(self.conv2(out))\n",
    "        return out\n",
    "\n",
    "\n",
    "class Encoder(torch.nn.Module):\n",
    "    def __init__(self, shapes, device):\n",
    "        super(Encoder, self).__init__()\n",
    "        self.max_pooling = torch.nn.MaxPool2d((2, 2))\n",
    "        # self.block_sizes = [3, 64, 128]\n",
    "        self.block_sizes = shapes\n",
    "        self.blocks = torch.nn.ModuleList(\n",
    "            [Block(self.block_sizes[i], self.block_sizes[i + 1], device)\n",
    "             for i, _ in enumerate(self.block_sizes[:-1])]\n",
    "        )\n",
    "\n",
    "    def forward(self, x):\n",
    "        copy_crops = []  # for operation copy and crop\n",
    "        out = x\n",
    "        for block in self.blocks[:-1]:\n",
    "            out = block(out)\n",
    "            copy_crops.append(out)\n",
    "            out = self.max_pooling(out)\n",
    "\n",
    "        out = self.blocks[-1](out)\n",
    "        # print(out.shape)\n",
    "        copy_crops = copy_crops[::-1]  # this will be putted in decoder in reversed order\n",
    "        return out, copy_crops\n",
    "\n",
    "\n",
    "class Decoder(torch.nn.Module):\n",
    "    def __init__(self, shapes, device):\n",
    "        super(Decoder, self).__init__()\n",
    "        # self.block_sizes = [128, 64]\n",
    "        self.block_sizes = shapes\n",
    "        self.blocks = torch.nn.ModuleList(\n",
    "            [Block(self.block_sizes[i], self.block_sizes[i + 1], device)\n",
    "             for i, _ in enumerate(self.block_sizes[:-1])]\n",
    "        )\n",
    "        self.transpose_convs = torch.nn.ModuleList(\n",
    "            [torch.nn.ConvTranspose2d\n",
    "             (self.block_sizes[i], self.block_sizes[i + 1], kernel_size=(2, 2), stride=(2, 2),\n",
    "              padding=(0, 0), device=device)\n",
    "             for i, _ in enumerate(self.block_sizes[:-1])]\n",
    "            )\n",
    "\n",
    "    def forward(self, x, copy_crops):\n",
    "        # copy_crops for skip connection\n",
    "        out = x\n",
    "        for block, transpose_conv, skip in zip(self.blocks, self.transpose_convs, copy_crops):\n",
    "            # print(\"out shape\", out.shape)\n",
    "            out = transpose_conv(out)\n",
    "            # print(\"out shape trans\", out.shape)\n",
    "            out_width, out_height = out.shape[2:]\n",
    "            skip_width, skip_height = skip.shape[2:]\n",
    "            croped_height = (\n",
    "                (skip_height - out_height) // 2, out_height + (skip_height - out_height) // 2)\n",
    "            croped_width = (\n",
    "                (skip_width - out_width) // 2, out_width + (skip_width - out_width) // 2)\n",
    "            skip = skip[:, :, croped_height[0]:croped_height[1], croped_width[0]:croped_width[1]]\n",
    "            # print(\"skip croped shape\", skip.shape)\n",
    "            out = torch.concat((skip, out), dim=1)\n",
    "            # print(\"out after concat\", out.shape)\n",
    "            out = block(out)\n",
    "            \n",
    "        return out\n",
    "\n",
    "\n",
    "class UNet(torch.nn.Module):\n",
    "    def __init__(self, shapes, device):\n",
    "        \"\"\"\n",
    "        :param shapes: shapes of filter in each block of encoder and decoder\n",
    "        :param device:\n",
    "        \"\"\"\n",
    "        super(UNet, self).__init__()\n",
    "        self.encoder = Encoder(shapes, device)\n",
    "        self.decoder = Decoder(shapes[:0:-1], device)\n",
    "        self.conv1 = torch.nn.Conv2d(64, 2, kernel_size=(1, 1), device=device)\n",
    "        self.SoftMax = torch.nn.Softmax(dim=1)  # along chanel dimension\n",
    "\n",
    "    def forward(self, x):\n",
    "        out, copy_crops = self.encoder(x)\n",
    "        out = self.decoder(out, copy_crops)\n",
    "        out = self.conv1(out)\n",
    "        out = self.SoftMax(out)\n",
    "        return out\n",
    "\n",
    "    def change_mode_to_train(self):\n",
    "        self.train()\n",
    "        self.encoder.train()\n",
    "        self.decoder.train()\n",
    "\n",
    "    def change_mode_to_eval(self):\n",
    "        self.eval()\n",
    "        self.encoder.eval()\n",
    "        self.decoder.eval()\n"
   ]
  },
  {
   "cell_type": "code",
   "execution_count": 11,
   "id": "d05e05ab",
   "metadata": {
    "execution": {
     "iopub.execute_input": "2022-07-30T19:34:45.436310Z",
     "iopub.status.busy": "2022-07-30T19:34:45.435499Z",
     "iopub.status.idle": "2022-07-30T19:34:45.444612Z",
     "shell.execute_reply": "2022-07-30T19:34:45.443811Z"
    },
    "papermill": {
     "duration": 0.018805,
     "end_time": "2022-07-30T19:34:45.446573",
     "exception": false,
     "start_time": "2022-07-30T19:34:45.427768",
     "status": "completed"
    },
    "tags": []
   },
   "outputs": [],
   "source": [
    "def fit(model, model_save_path, epochs, loss_func, opt,  # scheduler,\n",
    "        train_dl, test_dl, metric, len_train, len_test):\n",
    "    print(\"start training!\")\n",
    "    history_loss = []\n",
    "    history_metric = []\n",
    "\n",
    "    for ep in range(epochs):\n",
    "        # model.change_mode_to_train()\n",
    "        for x, y in train_dl:\n",
    "            y_pred = model(x)\n",
    "            loss = loss_func(y_pred, y)\n",
    "            opt.zero_grad()\n",
    "            loss.backward()\n",
    "            opt.step()\n",
    "        history_loss.append(loss.item())\n",
    "        with torch.no_grad():\n",
    "            # model.change_mode_to_eval()\n",
    "            history_metric.append(0)\n",
    "            for x, y in test_dl:\n",
    "                y_pred = model(x)\n",
    "                history_metric[-1] += metric(y_pred, y.to(dtype=torch.int32))\n",
    "            history_metric[-1] = history_metric[-1].cpu() / len_test\n",
    "        print(f\"№{ep}, loss {history_loss[-1]}, metric {history_metric[-1]}\", end=\"\\n\")\n",
    "        if ep % 10 == 0:\n",
    "            torch.save(model.state_dict(), f\"unet_ep_{ep}.pth\")\n",
    "        # scheduler.step()\n",
    "    return model, history_loss, history_metric\n"
   ]
  },
  {
   "cell_type": "code",
   "execution_count": 12,
   "id": "79682b7d",
   "metadata": {
    "execution": {
     "iopub.execute_input": "2022-07-30T19:34:45.460382Z",
     "iopub.status.busy": "2022-07-30T19:34:45.459921Z",
     "iopub.status.idle": "2022-07-30T19:35:11.320831Z",
     "shell.execute_reply": "2022-07-30T19:35:11.319620Z"
    },
    "papermill": {
     "duration": 25.870154,
     "end_time": "2022-07-30T19:35:11.322906",
     "exception": false,
     "start_time": "2022-07-30T19:34:45.452752",
     "status": "completed"
    },
    "tags": []
   },
   "outputs": [
    {
     "name": "stdout",
     "output_type": "stream",
     "text": [
      "loading annotations into memory...\n",
      "Done (t=24.70s)\n",
      "creating index...\n",
      "index created!\n"
     ]
    }
   ],
   "source": [
    "coco_module = COCO(\"../input/coco-2017-dataset/coco2017/annotations/instances_train2017.json\")"
   ]
  },
  {
   "cell_type": "code",
   "execution_count": 13,
   "id": "7b0d1024",
   "metadata": {
    "execution": {
     "iopub.execute_input": "2022-07-30T19:35:11.338779Z",
     "iopub.status.busy": "2022-07-30T19:35:11.338499Z",
     "iopub.status.idle": "2022-07-30T19:35:11.390258Z",
     "shell.execute_reply": "2022-07-30T19:35:11.389347Z"
    },
    "papermill": {
     "duration": 0.061756,
     "end_time": "2022-07-30T19:35:11.392449",
     "exception": false,
     "start_time": "2022-07-30T19:35:11.330693",
     "status": "completed"
    },
    "tags": []
   },
   "outputs": [],
   "source": [
    "def main(coco_module):\n",
    "    device = torch.device(\"cuda\")\n",
    "    print(device)\n",
    "    unet = UNet([3, 64, 128, 256, 512], device)\n",
    "    unet.load_state_dict(torch.load(\n",
    "        \"../input/checkpoint-after-10ep/unet_ep_10_128BS_0.001lr_512params.pth\")\n",
    "    )\n",
    "    model_save_path = f\"unet_.pth\"\n",
    "    images_path = \"../input/coco-2017-dataset/coco2017/train2017\"\n",
    "    images_shape = (128, 128)\n",
    "    epochs = 70\n",
    "    loss_func = torch.nn.CrossEntropyLoss()\n",
    "    batch_size = 128\n",
    "    \n",
    "    limiter = 0\n",
    "    print(f\"image size {images_shape}, epochs {epochs}, batch_size {batch_size}\")\n",
    "    print(f\"limiter={limiter}\")\n",
    "    train_dataloader, test_dataloader, len_train, len_test = \\\n",
    "        get_dataloader(coco_module, images_path, images_shape, batch_size, device,\n",
    "                       limiter=limiter, need_transformations=True)\n",
    "\n",
    "    optm = torch.optim.Adam(unet.parameters(), lr=0.001)\n",
    "    # scheduler = torch.optim.lr_scheduler.MultiStepLR(optm, [100, 150], gamma=0.9)\n",
    "    metric_jaccard = JaccardIndex(2, average=\"macro\").to(device=device)\n",
    "\n",
    "    unet, history_loss, history_jac = \\\n",
    "        fit(unet, model_save_path, epochs, loss_func, optm,  # scheduler,\n",
    "            train_dataloader, test_dataloader,\n",
    "            metric_jaccard,\n",
    "            len_train, len_test)\n",
    "\n",
    "    plt.plot(np.arange(0, len(history_loss)), history_loss)\n",
    "    plt.title(\"train loss\")\n",
    "    plt.show()\n",
    "\n",
    "    plt.plot(np.arange(0, len(history_jac)), history_jac)\n",
    "    plt.title(\"test metric\")\n",
    "    plt.show()\n",
    "\n",
    "    return unet, history_loss, history_jac\n"
   ]
  },
  {
   "cell_type": "code",
   "execution_count": 14,
   "id": "3d183540",
   "metadata": {
    "execution": {
     "iopub.execute_input": "2022-07-30T19:35:11.406511Z",
     "iopub.status.busy": "2022-07-30T19:35:11.406230Z",
     "iopub.status.idle": "2022-07-30T22:57:09.065058Z",
     "shell.execute_reply": "2022-07-30T22:57:09.064046Z"
    },
    "papermill": {
     "duration": 12117.668861,
     "end_time": "2022-07-30T22:57:09.067742",
     "exception": false,
     "start_time": "2022-07-30T19:35:11.398881",
     "status": "completed"
    },
    "tags": []
   },
   "outputs": [
    {
     "name": "stdout",
     "output_type": "stream",
     "text": [
      "cuda\n",
      "image size (128, 128), epochs 70, batch_size 128\n",
      "limiter=0\n",
      "start training!\n",
      "№0, loss 0.48303860425949097, metric 0.6790926456451416\n",
      "№1, loss 0.47531858086586, metric 0.6844269037246704\n",
      "№2, loss 0.47387421131134033, metric 0.6914302110671997\n",
      "№3, loss 0.4658016264438629, metric 0.6957859992980957\n",
      "№4, loss 0.471974641084671, metric 0.7032099962234497\n",
      "№5, loss 0.46272778511047363, metric 0.7098438143730164\n",
      "№6, loss 0.45801815390586853, metric 0.713187575340271\n",
      "№7, loss 0.4566969573497772, metric 0.7124659419059753\n",
      "№8, loss 0.44728532433509827, metric 0.7198112607002258\n",
      "№9, loss 0.43606889247894287, metric 0.7216929197311401\n",
      "№10, loss 0.4397747814655304, metric 0.7265275120735168\n",
      "№11, loss 0.4230180084705353, metric 0.7281933426856995\n",
      "№12, loss 0.43230709433555603, metric 0.7223817706108093\n",
      "№13, loss 0.42560404539108276, metric 0.7333067059516907\n",
      "№14, loss 0.42501169443130493, metric 0.7300675511360168\n",
      "№15, loss 0.4249506890773773, metric 0.7348454594612122\n",
      "№16, loss 0.42135995626449585, metric 0.7350597977638245\n",
      "№17, loss 0.4172515869140625, metric 0.7422178387641907\n",
      "№18, loss 0.40402260422706604, metric 0.7482128739356995\n",
      "№19, loss 0.4114810824394226, metric 0.7472207546234131\n",
      "№20, loss 0.41447913646698, metric 0.7494635581970215\n",
      "№21, loss 0.40921750664711, metric 0.7515287399291992\n",
      "№22, loss 0.40552884340286255, metric 0.7538512349128723\n",
      "№23, loss 0.4040028750896454, metric 0.7539499402046204\n",
      "№24, loss 0.39595112204551697, metric 0.7552935481071472\n",
      "№25, loss 0.399856835603714, metric 0.754913866519928\n",
      "№26, loss 0.3965888023376465, metric 0.760040819644928\n",
      "№27, loss 0.3866196870803833, metric 0.7572134733200073\n",
      "№28, loss 0.38805854320526123, metric 0.7570871114730835\n",
      "№29, loss 0.3890624940395355, metric 0.7589699625968933\n",
      "№30, loss 0.3816128969192505, metric 0.7614777684211731\n",
      "№31, loss 0.3957177698612213, metric 0.7539043426513672\n",
      "№32, loss 0.38097521662712097, metric 0.7634860277175903\n",
      "№33, loss 0.37627092003822327, metric 0.7564955949783325\n",
      "№34, loss 0.3778921663761139, metric 0.7621462941169739\n",
      "№35, loss 0.3803919553756714, metric 0.7605355978012085\n",
      "№36, loss 0.37685197591781616, metric 0.7650960683822632\n",
      "№37, loss 0.3800053298473358, metric 0.7653255462646484\n",
      "№38, loss 0.37139496207237244, metric 0.7674194574356079\n",
      "№39, loss 0.36585521697998047, metric 0.7671460509300232\n",
      "№40, loss 0.3764365017414093, metric 0.7630012035369873\n",
      "№41, loss 0.36835676431655884, metric 0.758880615234375\n",
      "№42, loss 0.3661961257457733, metric 0.7673888802528381\n",
      "№43, loss 0.3735015094280243, metric 0.7686833143234253\n",
      "№44, loss 0.3747130334377289, metric 0.7719576358795166\n",
      "№45, loss 0.36044731736183167, metric 0.7675769925117493\n",
      "№46, loss 0.3715701401233673, metric 0.7655054330825806\n",
      "№47, loss 0.3741937577724457, metric 0.7701933979988098\n",
      "№48, loss 0.36168575286865234, metric 0.7625057697296143\n",
      "№49, loss 0.3645196259021759, metric 0.7691963315010071\n",
      "№50, loss 0.36730068922042847, metric 0.7684711217880249\n",
      "№51, loss 0.3718431293964386, metric 0.767925500869751\n",
      "№52, loss 0.365192711353302, metric 0.7746521830558777\n",
      "№53, loss 0.37065815925598145, metric 0.7698485255241394\n",
      "№54, loss 0.3673124313354492, metric 0.7762041687965393\n",
      "№55, loss 0.35393643379211426, metric 0.7747471332550049\n",
      "№56, loss 0.36648616194725037, metric 0.7733057737350464\n",
      "№57, loss 0.36475473642349243, metric 0.770057737827301\n",
      "№58, loss 0.3617507815361023, metric 0.7733678221702576\n",
      "№59, loss 0.3608095943927765, metric 0.773057758808136\n",
      "№60, loss 0.36097386479377747, metric 0.7710990309715271\n",
      "№61, loss 0.35873863101005554, metric 0.7732364535331726\n",
      "№62, loss 0.36136630177497864, metric 0.7712213397026062\n",
      "№63, loss 0.35841113328933716, metric 0.775391161441803\n",
      "№64, loss 0.3579972982406616, metric 0.7683870196342468\n",
      "№65, loss 0.351453572511673, metric 0.7763200998306274\n",
      "№66, loss 0.3550862669944763, metric 0.7729708552360535\n",
      "№67, loss 0.3525671660900116, metric 0.7738116979598999\n",
      "№68, loss 0.3589363694190979, metric 0.7760556936264038\n",
      "№69, loss 0.359946608543396, metric 0.7663216590881348\n"
     ]
    },
    {
     "data": {
      "image/png": "[encoded data removed]",
      "text/plain": [
       "<Figure size 432x288 with 1 Axes>"
      ]
     },
     "metadata": {
      "needs_background": "light"
     },
     "output_type": "display_data"
    },
    {
     "data": {
      "image/png": "[encoded data removed]",
      "text/plain": [
       "<Figure size 432x288 with 1 Axes>"
      ]
     },
     "metadata": {
      "needs_background": "light"
     },
     "output_type": "display_data"
    }
   ],
   "source": [
    "unet_, history_loss_, history_jac_mac_ = main(coco_module)\n",
    "torch.save(unet_.state_dict(), f\"unet_final_128BS_256params.pth\")"
   ]
  },
  {
   "cell_type": "code",
   "execution_count": 15,
   "id": "0a3f25bc",
   "metadata": {
    "execution": {
     "iopub.execute_input": "2022-07-30T22:57:09.093225Z",
     "iopub.status.busy": "2022-07-30T22:57:09.091776Z",
     "iopub.status.idle": "2022-07-30T22:57:14.788215Z",
     "shell.execute_reply": "2022-07-30T22:57:14.787212Z"
    },
    "papermill": {
     "duration": 5.712579,
     "end_time": "2022-07-30T22:57:14.791999",
     "exception": false,
     "start_time": "2022-07-30T22:57:09.079420",
     "status": "completed"
    },
    "tags": []
   },
   "outputs": [
    {
     "name": "stderr",
     "output_type": "stream",
     "text": [
      "/opt/conda/lib/python3.7/site-packages/ipykernel_launcher.py:34: DeprecationWarning: `np.int` is a deprecated alias for the builtin `int`. To silence this warning, use `int` by itself. Doing this will not modify any behavior and is safe. When replacing `np.int`, you may wish to use e.g. `np.int64` or `np.int32` to specify the precision. If you wish to review your current use, check the release note link for additional information.\n",
      "Deprecated in NumPy 1.20; for more details and guidance: https://numpy.org/devdocs/release/1.20.0-notes.html#deprecations\n"
     ]
    },
    {
     "data": {
      "image/png": "[encoded data removed]",
      "text/plain": [
       "<Figure size 720x720 with 64 Axes>"
      ]
     },
     "metadata": {
      "needs_background": "light"
     },
     "output_type": "display_data"
    },
    {
     "name": "stdout",
     "output_type": "stream",
     "text": [
      "\n"
     ]
    }
   ],
   "source": [
    "check_of_model_work(coco_module, \"../input/coco-2017-dataset/coco2017/train2017\",\n",
    "                    (128, 128), unet_,\n",
    "                    torch.device(\"cuda\"), 32)"
   ]
  },
  {
   "cell_type": "code",
   "execution_count": 16,
   "id": "f4c774f7",
   "metadata": {
    "execution": {
     "iopub.execute_input": "2022-07-30T22:57:14.820463Z",
     "iopub.status.busy": "2022-07-30T22:57:14.820113Z",
     "iopub.status.idle": "2022-07-30T22:57:14.837856Z",
     "shell.execute_reply": "2022-07-30T22:57:14.836897Z"
    },
    "papermill": {
     "duration": 0.034731,
     "end_time": "2022-07-30T22:57:14.840177",
     "exception": false,
     "start_time": "2022-07-30T22:57:14.805446",
     "status": "completed"
    },
    "tags": []
   },
   "outputs": [],
   "source": [
    "out = open(\"out_history.txt\", \"w\")\n",
    "for el in history_loss_:\n",
    "    out.write(str(el))\n",
    "    out.write(\" \")\n",
    "\n",
    "out.write(\"\\n\")\n",
    "for el in history_jac_mac_:\n",
    "    out.write(str(el))\n",
    "    out.write(\" \")\n",
    "\n",
    "out.close()"
   ]
  }
 ],
 "metadata": {
  "kernelspec": {
   "display_name": "Python 3",
   "language": "python",
   "name": "python3"
  },
  "language_info": {
   "codemirror_mode": {
    "name": "ipython",
    "version": 3
   },
   "file_extension": ".py",
   "mimetype": "text/x-python",
   "name": "python",
   "nbconvert_exporter": "python",
   "pygments_lexer": "ipython3",
   "version": "3.7.12"
  },
  "papermill": {
   "default_parameters": {},
   "duration": 12198.482134,
   "end_time": "2022-07-30T22:57:17.699111",
   "environment_variables": {},
   "exception": null,
   "input_path": "__notebook__.ipynb",
   "output_path": "__notebook__.ipynb",
   "parameters": {},
   "start_time": "2022-07-30T19:33:59.216977",
   "version": "2.3.4"
  }
 },
 "nbformat": 4,
 "nbformat_minor": 5
}